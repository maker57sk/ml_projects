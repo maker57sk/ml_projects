{
  "nbformat": 4,
  "nbformat_minor": 0,
  "metadata": {
    "colab": {
      "name": "tips.ipynb",
      "provenance": [],
      "authorship_tag": "ABX9TyMy5fLZ6Wdji2KSKoftswU1",
      "include_colab_link": true
    },
    "kernelspec": {
      "name": "python3",
      "display_name": "Python 3"
    },
    "language_info": {
      "name": "python"
    }
  },
  "cells": [
    {
      "cell_type": "markdown",
      "metadata": {
        "id": "view-in-github",
        "colab_type": "text"
      },
      "source": [
        "<a href=\"https://colab.research.google.com/github/maker57sk/ml_projects/blob/master/url_extract.ipynb\" target=\"_parent\"><img src=\"https://colab.research.google.com/assets/colab-badge.svg\" alt=\"Open In Colab\"/></a>"
      ]
    },
    {
      "cell_type": "code",
      "execution_count": 2,
      "metadata": {
        "id": "yDOtUFrkdjCQ"
      },
      "outputs": [],
      "source": [
        "from google.colab import output"
      ]
    },
    {
      "cell_type": "code",
      "source": [
        "!pip install yarl\n",
        "output.clear()"
      ],
      "metadata": {
        "id": "uQjGVA47dpzK"
      },
      "execution_count": 3,
      "outputs": []
    },
    {
      "cell_type": "code",
      "source": [
        "from yarl import URL\n",
        "\n",
        "url = URL('https://linkdin.com/maker57sk')\n",
        "url.host"
      ],
      "metadata": {
        "colab": {
          "base_uri": "https://localhost:8080/",
          "height": 35
        },
        "id": "oWcY9bTidyvm",
        "outputId": "e3e30406-0d68-4df3-c5be-410a21e4a31a"
      },
      "execution_count": 9,
      "outputs": [
        {
          "output_type": "execute_result",
          "data": {
            "text/plain": [
              "'linkdin.com'"
            ],
            "application/vnd.google.colaboratory.intrinsic+json": {
              "type": "string"
            }
          },
          "metadata": {},
          "execution_count": 9
        }
      ]
    },
    {
      "cell_type": "code",
      "source": [
        "if url.host == 'github.com':\n",
        "  print(url.path)\n",
        "elif url.host == 'linkdin.com':\n",
        "  print(url.path)\n"
      ],
      "metadata": {
        "colab": {
          "base_uri": "https://localhost:8080/"
        },
        "id": "U2bQiYpPeAeE",
        "outputId": "06bf08c5-9471-4e35-8bea-77d81a9ae334"
      },
      "execution_count": 11,
      "outputs": [
        {
          "output_type": "stream",
          "name": "stdout",
          "text": [
            "/maker57sk\n"
          ]
        }
      ]
    },
    {
      "cell_type": "code",
      "source": [
        "def find_username(user_url):\n",
        "  url = URL(user_url)\n",
        "  url.host\n",
        "  if url.host == 'github.com':\n",
        "   return url.path\n",
        "  elif url.host == 'linkdin.com':\n",
        "    return url.path\n"
      ],
      "metadata": {
        "id": "Tsw7Fncre35K"
      },
      "execution_count": 15,
      "outputs": []
    },
    {
      "cell_type": "code",
      "source": [
        "find_username('https://linkdin.com/maker57sk')"
      ],
      "metadata": {
        "colab": {
          "base_uri": "https://localhost:8080/",
          "height": 35
        },
        "id": "vE23mFVUfRag",
        "outputId": "56f514f3-896f-4c37-c63f-4206745affcd"
      },
      "execution_count": 16,
      "outputs": [
        {
          "output_type": "execute_result",
          "data": {
            "text/plain": [
              "'/maker57sk'"
            ],
            "application/vnd.google.colaboratory.intrinsic+json": {
              "type": "string"
            }
          },
          "metadata": {},
          "execution_count": 16
        }
      ]
    },
    {
      "cell_type": "code",
      "source": [
        ""
      ],
      "metadata": {
        "id": "Egrm5mr6fT_i"
      },
      "execution_count": null,
      "outputs": []
    }
  ]
}