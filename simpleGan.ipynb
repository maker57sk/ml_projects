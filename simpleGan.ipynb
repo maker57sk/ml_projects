{
  "nbformat": 4,
  "nbformat_minor": 0,
  "metadata": {
    "colab": {
      "name": "simpleGan.ipynb",
      "provenance": [],
      "authorship_tag": "ABX9TyMDD48xRWGF5yUC0vdzfjJy",
      "include_colab_link": true
    },
    "kernelspec": {
      "name": "python3",
      "display_name": "Python 3"
    },
    "language_info": {
      "name": "python"
    }
  },
  "cells": [
    {
      "cell_type": "markdown",
      "metadata": {
        "id": "view-in-github",
        "colab_type": "text"
      },
      "source": [
        "<a href=\"https://colab.research.google.com/github/maker57sk/ml_projects/blob/master/simpleGan.ipynb\" target=\"_parent\"><img src=\"https://colab.research.google.com/assets/colab-badge.svg\" alt=\"Open In Colab\"/></a>"
      ]
    },
    {
      "cell_type": "code",
      "metadata": {
        "id": "uqIOuRvEa9n9"
      },
      "source": [
        "import matplotlib.pyplot as plt\n",
        "import numpy as np\n",
        "from keras.models import Sequential\n",
        "from keras.layers import Dense\n",
        "from keras.utils.vis_utils import plot_model"
      ],
      "execution_count": null,
      "outputs": []
    },
    {
      "cell_type": "code",
      "metadata": {
        "id": "pDaBp7X_ayIG"
      },
      "source": [
        "def calculate(x):\n",
        "  return x * x"
      ],
      "execution_count": null,
      "outputs": []
    },
    {
      "cell_type": "code",
      "metadata": {
        "id": "-0iIU_Sqa7_e"
      },
      "source": [
        "inputs = [-0.5,-0.4,-0.3,-0.2,-0.1,0,0.1,0.2,0.3,0.4,0.5]"
      ],
      "execution_count": null,
      "outputs": []
    },
    {
      "cell_type": "code",
      "metadata": {
        "id": "KzMbUne7bdFz"
      },
      "source": [
        "outputs = [calculate(x) for x in inputs]"
      ],
      "execution_count": null,
      "outputs": []
    },
    {
      "cell_type": "code",
      "metadata": {
        "colab": {
          "base_uri": "https://localhost:8080/",
          "height": 265
        },
        "id": "msc4ixIwbp89",
        "outputId": "3f5b00db-fe4c-4f85-f25b-e88cb5772cc1"
      },
      "source": [
        "plt.plot(inputs,outputs)\n",
        "plt.show()"
      ],
      "execution_count": null,
      "outputs": [
        {
          "output_type": "display_data",
          "data": {
            "image/png": "[encoded data removed]",
            "text/plain": [
              "<Figure size 432x288 with 1 Axes>"
            ]
          },
          "metadata": {
            "needs_background": "light"
          }
        }
      ]
    },
    {
      "cell_type": "code",
      "metadata": {
        "id": "QqjsT9WGbu41"
      },
      "source": [
        "def genarate_samples(n=100):\n",
        "  X1 = np.random.rand(n) - 0.5\n",
        "  X2 = X1 * X1\n",
        "  X1 = X1.reshape(n,1)\n",
        "  X2 = X2.reshape(n,1)\n",
        "  return np.hstack((X1, X2))"
      ],
      "execution_count": null,
      "outputs": []
    },
    {
      "cell_type": "code",
      "metadata": {
        "colab": {
          "base_uri": "https://localhost:8080/",
          "height": 265
        },
        "id": "wSuBPkrtjQcL",
        "outputId": "140d806f-ecc1-4242-a168-9400038a8a33"
      },
      "source": [
        "data = genarate_samples()\n",
        "plt.scatter(data[:,0], data[:, 1])\n",
        "plt.show()"
      ],
      "execution_count": null,
      "outputs": [
        {
          "output_type": "display_data",
          "data": {
            "image/png": "[encoded data removed]",
            "text/plain": [
              "<Figure size 432x288 with 1 Axes>"
            ]
          },
          "metadata": {
            "needs_background": "light"
          }
        }
      ]
    },
    {
      "cell_type": "code",
      "metadata": {
        "id": "NuMMlasOjhUv"
      },
      "source": [
        "def define_discriminator(n_inputs=2):\n",
        "  model = Sequential()\n",
        "  model.add(Dense(25, activation='relu', kernel_initializer='he_uniform', input_dim=n_inputs))\n",
        "  model.add(Dense(1, activation='sigmoid'))\n",
        "  model.compile(loss='binery_crossentropy', optimizer='adam', metrics=['accuracy'] )\n",
        "  return model"
      ],
      "execution_count": null,
      "outputs": []
    },
    {
      "cell_type": "code",
      "metadata": {
        "colab": {
          "base_uri": "https://localhost:8080/"
        },
        "id": "BjyDLuGT5Uxg",
        "outputId": "eb3772fc-fcf7-4adb-a439-3d0be55f3941"
      },
      "source": [
        "model = define_discriminator()\n",
        "summary = model.summary()\n"
      ],
      "execution_count": null,
      "outputs": [
        {
          "output_type": "stream",
          "name": "stdout",
          "text": [
            "Model: \"sequential_11\"\n",
            "_________________________________________________________________\n",
            "Layer (type)                 Output Shape              Param #   \n",
            "=================================================================\n",
            "dense_18 (Dense)             (None, 25)                75        \n",
            "_________________________________________________________________\n",
            "dense_19 (Dense)             (None, 1)                 26        \n",
            "=================================================================\n",
            "Total params: 101\n",
            "Trainable params: 101\n",
            "Non-trainable params: 0\n",
            "_________________________________________________________________\n"
          ]
        }
      ]
    },
    {
      "cell_type": "code",
      "metadata": {
        "colab": {
          "base_uri": "https://localhost:8080/"
        },
        "id": "AGTvTc9z5cPG",
        "outputId": "4761d6f3-e7f9-4b57-9398-0c039304b402"
      },
      "source": [
        "model.get_layer(index=0)"
      ],
      "execution_count": null,
      "outputs": [
        {
          "output_type": "execute_result",
          "data": {
            "text/plain": [
              "<keras.layers.core.Dense at 0x7f71265d3090>"
            ]
          },
          "metadata": {},
          "execution_count": 45
        }
      ]
    },
    {
      "cell_type": "code",
      "metadata": {
        "colab": {
          "base_uri": "https://localhost:8080/",
          "height": 312
        },
        "id": "gnB5ndid6WV3",
        "outputId": "3a95f2d3-d819-40a8-e878-1b820f17234b"
      },
      "source": [
        "plot_model(model, to_file='disc_model.png', show_shapes=True, show_layer_names=True)"
      ],
      "execution_count": null,
      "outputs": [
        {
          "output_type": "execute_result",
          "data": {
            "image/png": "[encoded data removed]",
            "text/plain": [
              "<IPython.core.display.Image object>"
            ]
          },
          "metadata": {},
          "execution_count": 50
        }
      ]
    },
    {
      "cell_type": "code",
      "metadata": {
        "id": "yZhJt1tr8amI"
      },
      "source": [
        "def generate_real_samples(n):\n",
        "  X1 = np.random.rand(n) - 0.5\n",
        "  X2 = X1 * X1\n",
        "  X1 = X1.reshape(n,1)\n",
        "  X2 = X2.reshape(n,1)\n",
        "  X = np.hstack((X1, X2))\n",
        "  y = ones(n, 1)\n",
        "  return X,y\n"
      ],
      "execution_count": null,
      "outputs": []
    },
    {
      "cell_type": "code",
      "metadata": {
        "id": "WSUbkolcSgOr"
      },
      "source": [
        "def generate_real_samples(n):\n",
        "  X1 = -1 + np.random.rand(n) * 2\n",
        "  X2 = -1 + np.random.rand(n) * 2\n",
        "  X1 = X1.reshape(n,1)\n",
        "  X2 = X2.reshape(n,1)\n",
        "  X = np.hstack((X1, X2))\n",
        "  y = zeros(n, 1)\n",
        "  return X,y"
      ],
      "execution_count": null,
      "outputs": []
    },
    {
      "cell_type": "code",
      "metadata": {
        "id": "BHHGcQPNTD4X"
      },
      "source": [
        "def train_discrimanator_model():\n",
        "  "
      ],
      "execution_count": null,
      "outputs": []
    }
  ]
}